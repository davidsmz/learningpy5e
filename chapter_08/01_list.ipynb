{
 "cells": [
  {
   "cell_type": "markdown",
   "metadata": {
    "collapsed": true,
    "pycharm": {
     "name": "#%% md\n"
    }
   },
   "source": [
    "# Lists"
   ]
  },
  {
   "cell_type": "code",
   "execution_count": 2,
   "outputs": [
    {
     "name": "stdout",
     "text": [
      "6\n",
      "[1, 2, 3, 4, 5, 6, 7, 8, 9]\n",
      "[1, 2, 3, 4, 5, 6, 1, 2, 3, 4, 5, 6]\n"
     ],
     "output_type": "stream"
    }
   ],
   "source": [
    "l1 = [1, 2, 3, 4, 5, 6]\n",
    "print(len(l1))          # length\n",
    "print(l1 + [7, 8, 9])   # concatenation\n",
    "l1_repeat = l1 * 2\n",
    "print(l1_repeat)           # repetition"
   ],
   "metadata": {
    "collapsed": false,
    "pycharm": {
     "name": "#%%\n",
     "is_executing": false
    }
   }
  },
  {
   "cell_type": "code",
   "execution_count": 5,
   "outputs": [
    {
     "name": "stdout",
     "text": [
      "[1, 2, 3, 4, 5, 6, 7, 8, 9]\n"
     ],
     "output_type": "stream"
    }
   ],
   "source": [
    "for item in list(\"789\"):\n",
    "    l1.append(int(item))\n",
    "print(l1)"
   ],
   "metadata": {
    "collapsed": false,
    "pycharm": {
     "name": "#%%\n",
     "is_executing": false
    }
   }
  },
  {
   "cell_type": "markdown",
   "source": [
    "### List iteration"
   ],
   "metadata": {
    "collapsed": false,
    "pycharm": {
     "name": "#%% md\n"
    }
   }
  },
  {
   "cell_type": "code",
   "execution_count": 8,
   "outputs": [
    {
     "name": "stdout",
     "text": [
      "2 3 5 7 11 13 17 - sum:  58\n"
     ],
     "output_type": "stream"
    }
   ],
   "source": [
    "l2 = [2, 3, 5, 7, 11, 13, 17]\n",
    "for i in l2:\n",
    "    print(i, end=\" \")\n",
    "sum_items = 0\n",
    "for i in l2:\n",
    "    sum_items += i\n",
    "print(\"- sum: \", sum_items)"
   ],
   "metadata": {
    "collapsed": false,
    "pycharm": {
     "name": "#%%\n",
     "is_executing": false
    }
   }
  },
  {
   "cell_type": "markdown",
   "source": [
    "### List comprehension"
   ],
   "metadata": {
    "collapsed": false,
    "pycharm": {
     "name": "#%% md\n"
    }
   }
  },
  {
   "cell_type": "code",
   "execution_count": 9,
   "outputs": [
    {
     "name": "stdout",
     "text": [
      "['dd', 'aa', 'vv', 'ii', 'dd']\n"
     ],
     "output_type": "stream"
    }
   ],
   "source": [
    "two_letters = [l * 2 for l in \"david\"]\n",
    "print(two_letters)"
   ],
   "metadata": {
    "collapsed": false,
    "pycharm": {
     "name": "#%%\n",
     "is_executing": false
    }
   }
  },
  {
   "cell_type": "code",
   "execution_count": 10,
   "outputs": [
    {
     "name": "stdout",
     "text": [
      "[2, 4, 6, 8, 10, 12, 14, 16, 18]\n"
     ],
     "output_type": "stream"
    }
   ],
   "source": [
    "number_even = [l for l in range(1,20) if l % 2 == 0]\n",
    "print(number_even)"
   ],
   "metadata": {
    "collapsed": false,
    "pycharm": {
     "name": "#%%\n",
     "is_executing": false
    }
   }
  },
  {
   "cell_type": "code",
   "execution_count": 17,
   "outputs": [
    {
     "name": "stdout",
     "text": [
      "[1, 4, 9, 16, 25, 36, 49, 64, 81]\n"
     ],
     "output_type": "stream"
    }
   ],
   "source": [
    "def multi(num):\n",
    "    return num ** 2\n",
    "print(list(map(multi, l1)))"
   ],
   "metadata": {
    "collapsed": false,
    "pycharm": {
     "name": "#%%\n",
     "is_executing": false
    }
   }
  },
  {
   "cell_type": "markdown",
   "source": [
    "### Slicing\n"
   ],
   "metadata": {
    "collapsed": false,
    "pycharm": {
     "name": "#%% md\n"
    }
   }
  },
  {
   "cell_type": "code",
   "execution_count": 18,
   "outputs": [
    {
     "data": {
      "text/plain": "[1, 9, 25, 49, 81]"
     },
     "metadata": {},
     "output_type": "execute_result",
     "execution_count": 18
    }
   ],
   "source": [
    "l3 = [x ** 2 for x in range(1, 10) if x % 2 == 1]\n",
    "l3"
   ],
   "metadata": {
    "collapsed": false,
    "pycharm": {
     "name": "#%%\n",
     "is_executing": false
    }
   }
  },
  {
   "cell_type": "code",
   "execution_count": 7,
   "outputs": [
    {
     "name": "stdout",
     "text": [
      "list_1 :  [1, 3, 5, 7, 9, 11, 13, 15, 17, 19]\n",
      "list_1[1:3] :  [3, 5]\n",
      "list_1[:-4] :  [1, 3, 5, 7, 9, 11]\n",
      "list_1[::-1] :  [19, 17, 15, 13, 11, 9, 7, 5, 3, 1]\n"
     ],
     "output_type": "stream"
    }
   ],
   "source": [
    "list_1 = list(range(1,20,2))\n",
    "print(\"list_1 : \", list_1)\n",
    "print(\"list_1[1:3] : \", list_1[1:3])\n",
    "print(\"list_1[:-4] : \", list_1[:-4])\n",
    "print(\"list_1[::-1] : \", list_1[::-1])\n"
   ],
   "metadata": {
    "collapsed": false,
    "pycharm": {
     "name": "#%%\n",
     "is_executing": false
    }
   }
  },
  {
   "cell_type": "markdown",
   "source": [
    "### Matrix"
   ],
   "metadata": {
    "collapsed": false,
    "pycharm": {
     "name": "#%% md\n"
    }
   }
  },
  {
   "cell_type": "code",
   "execution_count": 8,
   "outputs": [
    {
     "name": "stdout",
     "text": [
      "[[1, 2, 3], [5, 6, 7], [9, 10, 11]]\n"
     ],
     "output_type": "stream"
    }
   ],
   "source": [
    "matrix = [[1,2,3],\n",
    "          [5,6,7],\n",
    "          [9,10,11]]\n",
    "print(matrix)"
   ],
   "metadata": {
    "collapsed": false,
    "pycharm": {
     "name": "#%%\n",
     "is_executing": false
    }
   }
  },
  {
   "cell_type": "code",
   "execution_count": 10,
   "outputs": [
    {
     "name": "stdout",
     "text": [
      "['david', 'raquel', 'Daniel']\n",
      "['david', 'raquel', 'Caleb']\n"
     ],
     "output_type": "stream"
    }
   ],
   "source": [
    "# Lists are mutation\n",
    "list_2 = [\"david\", \"raquel\", \"Daniel\"]\n",
    "print(list_2)\n",
    "list_2[2] = \"Caleb\"\n",
    "print(list_2)"
   ],
   "metadata": {
    "collapsed": false,
    "pycharm": {
     "name": "#%%\n",
     "is_executing": false
    }
   }
  },
  {
   "cell_type": "markdown",
   "source": [
    "### Methods"
   ],
   "metadata": {
    "collapsed": false,
    "pycharm": {
     "name": "#%% md\n"
    }
   }
  },
  {
   "cell_type": "markdown",
   "source": [
    "#### append list"
   ],
   "metadata": {
    "collapsed": false,
    "pycharm": {
     "name": "#%% md\n"
    }
   }
  },
  {
   "cell_type": "code",
   "execution_count": 11,
   "outputs": [
    {
     "data": {
      "text/plain": "[2, 3, 5, 7, 9]"
     },
     "metadata": {},
     "output_type": "execute_result",
     "execution_count": 11
    }
   ],
   "source": [
    "L = [2,3,5,7]\n",
    "if L[0] == 2:\n",
    "    L.append(9)\n",
    "L"
   ],
   "metadata": {
    "collapsed": false,
    "pycharm": {
     "name": "#%%\n",
     "is_executing": false
    }
   }
  },
  {
   "cell_type": "code",
   "execution_count": 12,
   "outputs": [
    {
     "data": {
      "text/plain": "[2, 3, 5, 7, 9, 11, 13]"
     },
     "metadata": {},
     "output_type": "execute_result",
     "execution_count": 12
    }
   ],
   "source": [
    "L.extend([11,13])\n",
    "L"
   ],
   "metadata": {
    "collapsed": false,
    "pycharm": {
     "name": "#%%\n",
     "is_executing": false
    }
   }
  },
  {
   "cell_type": "code",
   "execution_count": 15,
   "outputs": [
    {
     "data": {
      "text/plain": "['A', 'F', 'a', 'b', 'd', 'g', 'h']"
     },
     "metadata": {},
     "output_type": "execute_result",
     "execution_count": 15
    }
   ],
   "source": [
    "# sort lists\n",
    "L = [\"b\", \"d\", \"a\", \"g\", \"A\", \"F\", \"h\"]\n",
    "L.sort()\n",
    "L"
   ],
   "metadata": {
    "collapsed": false,
    "pycharm": {
     "name": "#%%\n",
     "is_executing": false
    }
   }
  },
  {
   "cell_type": "code",
   "execution_count": 16,
   "outputs": [
    {
     "data": {
      "text/plain": "['a', 'A', 'b', 'd', 'F', 'g', 'h']"
     },
     "metadata": {},
     "output_type": "execute_result",
     "execution_count": 16
    }
   ],
   "source": [
    "L = [\"b\", \"d\", \"a\", \"g\", \"A\", \"F\", \"h\"]\n",
    "L.sort(key=str.lower)\n",
    "L"
   ],
   "metadata": {
    "collapsed": false,
    "pycharm": {
     "name": "#%%\n",
     "is_executing": false
    }
   }
  },
  {
   "cell_type": "code",
   "execution_count": 20,
   "outputs": [
    {
     "data": {
      "text/plain": "3"
     },
     "metadata": {},
     "output_type": "execute_result",
     "execution_count": 20
    }
   ],
   "source": [
    "# return index of element's array\n",
    "list_3 = [2, 3, 5, 7]\n",
    "list_3.index(7)"
   ],
   "metadata": {
    "collapsed": false,
    "pycharm": {
     "name": "#%%\n",
     "is_executing": false
    }
   }
  },
  {
   "cell_type": "code",
   "execution_count": 21,
   "outputs": [
    {
     "data": {
      "text/plain": "[1, 2, 3, 5, 7]"
     },
     "metadata": {},
     "output_type": "execute_result",
     "execution_count": 21
    }
   ],
   "source": [
    "# insert item in list\n",
    "list_3.insert(0, 1)\n",
    "list_3"
   ],
   "metadata": {
    "collapsed": false,
    "pycharm": {
     "name": "#%%\n",
     "is_executing": false
    }
   }
  },
  {
   "cell_type": "code",
   "execution_count": 22,
   "outputs": [
    {
     "data": {
      "text/plain": "[2, 3, 5, 7]"
     },
     "metadata": {},
     "output_type": "execute_result",
     "execution_count": 22
    }
   ],
   "source": [
    "# remove item in list\n",
    "list_3.remove(1)\n",
    "list_3"
   ],
   "metadata": {
    "collapsed": false,
    "pycharm": {
     "name": "#%%\n",
     "is_executing": false
    }
   }
  },
  {
   "cell_type": "code",
   "execution_count": 23,
   "outputs": [
    {
     "name": "stdout",
     "text": [
      "[2, 3, 5] 7\n"
     ],
     "output_type": "stream"
    }
   ],
   "source": [
    "# remove last item in list\n",
    "item_removed = list_3.pop(len(list_3) - 1)\n",
    "print(list_3, item_removed)"
   ],
   "metadata": {
    "collapsed": false,
    "pycharm": {
     "name": "#%%\n",
     "is_executing": false
    }
   }
  },
  {
   "cell_type": "code",
   "execution_count": 29,
   "outputs": [
    {
     "name": "stdout",
     "text": [
      "[2, 3, 5, 2, 7, 2, 9, 11, 15, 2, 2, 7, 2, 9, 11, 15, 2, 2, 7, 2, 9, 11, 15, 2]\n",
      "10\n"
     ],
     "output_type": "stream"
    }
   ],
   "source": [
    "# count number of items in list\n",
    "list_3.extend([2, 7, 2, 9, 11, 15, 2])\n",
    "print(list_3)\n",
    "print(list_3.count(2))\n"
   ],
   "metadata": {
    "collapsed": false,
    "pycharm": {
     "name": "#%%\n",
     "is_executing": false
    }
   }
  },
  {
   "cell_type": "code",
   "execution_count": 1,
   "outputs": [
    {
     "name": "stdout",
     "text": [
      "['python', 'ruby']\n"
     ],
     "output_type": "stream"
    }
   ],
   "source": [
    "languages = [\"java\", \"python\", \"ruby\"]\n",
    "del languages[0]\n",
    "print(languages)"
   ],
   "metadata": {
    "collapsed": false,
    "pycharm": {
     "name": "#%%\n",
     "is_executing": false
    }
   }
  },
  {
   "cell_type": "code",
   "execution_count": 2,
   "outputs": [
    {
     "name": "stdout",
     "text": [
      "['python', 'ruby', 'haskell', 'scala', 'kotlin', 'ruby', 'javascript']\n",
      "['python', 'ruby', 'haskell', 'scala', 'kotlin']\n"
     ],
     "output_type": "stream"
    }
   ],
   "source": [
    "languages.extend([\"haskell\", \"scala\", \"kotlin\", \"ruby\", \"javascript\"])\n",
    "print(languages)\n",
    "del languages[5:]\n",
    "print(languages)"
   ],
   "metadata": {
    "collapsed": false,
    "pycharm": {
     "name": "#%%\n",
     "is_executing": false
    }
   }
  },
  {
   "cell_type": "code",
   "execution_count": null,
   "outputs": [],
   "source": [
    "\n"
   ],
   "metadata": {
    "collapsed": false,
    "pycharm": {
     "name": "#%%\n"
    }
   }
  }
 ],
 "metadata": {
  "kernelspec": {
   "display_name": "Python 3",
   "language": "python",
   "name": "python3"
  },
  "language_info": {
   "codemirror_mode": {
    "name": "ipython",
    "version": 2
   },
   "file_extension": ".py",
   "mimetype": "text/x-python",
   "name": "python",
   "nbconvert_exporter": "python",
   "pygments_lexer": "ipython2",
   "version": "2.7.6"
  },
  "pycharm": {
   "stem_cell": {
    "cell_type": "raw",
    "source": [],
    "metadata": {
     "collapsed": false
    }
   }
  }
 },
 "nbformat": 4,
 "nbformat_minor": 0
}